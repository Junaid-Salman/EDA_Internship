{
 "cells": [
  {
   "cell_type": "markdown",
   "id": "c81988d1",
   "metadata": {},
   "source": [
    "## Q#1"
   ]
  },
  {
   "cell_type": "code",
   "execution_count": 6,
   "id": "79f9e16a",
   "metadata": {},
   "outputs": [],
   "source": [
    "import pandas as pd"
   ]
  },
  {
   "cell_type": "code",
   "execution_count": 7,
   "id": "9ff1673b",
   "metadata": {},
   "outputs": [
    {
     "name": "stdout",
     "output_type": "stream",
     "text": [
      "a    1\n",
      "x    4\n",
      "c    9\n",
      "2    6\n",
      "e    7\n",
      "dtype: int64\n"
     ]
    }
   ],
   "source": [
    "# Create a pandas Series\n",
    "data = [1, 4, 9, 6, 7]\n",
    "index = ['a', 'x', 'c', '2', 'e']\n",
    "\n",
    "series = pd.Series(data, index=index)\n",
    "\n",
    "print(series)"
   ]
  },
  {
   "cell_type": "markdown",
   "id": "4dc414cf",
   "metadata": {},
   "source": [
    "## Q#2"
   ]
  },
  {
   "cell_type": "code",
   "execution_count": 2,
   "id": "1ebd718f",
   "metadata": {},
   "outputs": [
    {
     "name": "stdout",
     "output_type": "stream",
     "text": [
      "Bilal     42\n",
      "Ayesha    38\n",
      "Hadia     39\n",
      "dtype: int64\n"
     ]
    }
   ],
   "source": [
    "# Create a dictionary with data\n",
    "data = {'Bilal': 42, 'Ayesha': 38, 'Hadia': 39}\n",
    "\n",
    "# Create a pandas Series from the dictionary\n",
    "series = pd.Series(data)\n",
    "\n",
    "print(series)"
   ]
  },
  {
   "cell_type": "markdown",
   "id": "43be1920",
   "metadata": {},
   "source": [
    "## Q#3"
   ]
  },
  {
   "cell_type": "code",
   "execution_count": 3,
   "id": "d01f5aea",
   "metadata": {},
   "outputs": [
    {
     "name": "stdout",
     "output_type": "stream",
     "text": [
      "        day  temperature  windspeed  event\n",
      "0  1/1/2017           32          6   Rain\n",
      "1  1/2/2017           35          7  Sunny\n",
      "2  1/3/2017           28          2   Snow\n",
      "3  1/4/2017           24          7   Snow\n",
      "4  1/5/2017           32          4   Rain\n",
      "5  1/6/2017           31          2  Sunny\n"
     ]
    }
   ],
   "source": [
    "# Create a dictionary with data\n",
    "data = {\n",
    "    'day': ['1/1/2017', '1/2/2017', '1/3/2017', '1/4/2017', '1/5/2017', '1/6/2017'],\n",
    "    'temperature': [32, 35, 28, 24, 32, 31],\n",
    "    'windspeed': [6, 7, 2, 7, 4, 2],\n",
    "    'event': ['Rain', 'Sunny', 'Snow', 'Snow', 'Rain', 'Sunny']\n",
    "}\n",
    "\n",
    "# Create a pandas DataFrame from the dictionary\n",
    "df = pd.DataFrame(data)\n",
    "\n",
    "print(df)"
   ]
  },
  {
   "cell_type": "markdown",
   "id": "98c3d781",
   "metadata": {},
   "source": [
    "## Q#4"
   ]
  },
  {
   "cell_type": "code",
   "execution_count": 4,
   "id": "0dfa280c",
   "metadata": {},
   "outputs": [
    {
     "name": "stdout",
     "output_type": "stream",
     "text": [
      "        day  temperature  windspeed  event\n",
      "a  1/1/2017           32          6   Rain\n",
      "b  1/2/2017           35          7  Sunny\n",
      "c  1/3/2017           28          2   Snow\n",
      "d  1/4/2017           24          7   Snow\n",
      "e  1/5/2017           32          4   Rain\n",
      "f  1/6/2017           31          2  Sunny\n"
     ]
    }
   ],
   "source": [
    "# Create a pandas DataFrame from the dictionary with the specified index\n",
    "df = pd.DataFrame(data, index=['a', 'b', 'c', 'd', 'e', 'f'])\n",
    "\n",
    "print(df)"
   ]
  },
  {
   "cell_type": "markdown",
   "id": "f9fcb9a7",
   "metadata": {},
   "source": [
    "## Q#5"
   ]
  },
  {
   "cell_type": "code",
   "execution_count": 5,
   "id": "78887c2c",
   "metadata": {},
   "outputs": [
    {
     "name": "stdout",
     "output_type": "stream",
     "text": [
      "Mean temperature: 30.333333333333332\n",
      "Maximum temperature: 35\n",
      "Minimum temperature: 24\n"
     ]
    }
   ],
   "source": [
    "# Create a dictionary with data\n",
    "data = {\n",
    "    'day': ['1/1/2017', '1/2/2017', '1/3/2017', '1/4/2017', '1/5/2017', '1/6/2017'],\n",
    "    'temperature': [32, 35, 28, 24, 32, 31],\n",
    "    'windspeed': [6, 7, 2, 7, 4, 2],\n",
    "    'event': ['Rain', 'Sunny', 'Snow', 'Snow', 'Rain', 'Sunny']\n",
    "}\n",
    "\n",
    "# Create a pandas DataFrame from the dictionary with the specified index\n",
    "df = pd.DataFrame(data, index=['a', 'b', 'c', 'd', 'e', 'f'])\n",
    "\n",
    "# Calculate mean, maximum, and minimum temperature\n",
    "mean_temperature = df['temperature'].mean()\n",
    "max_temperature = df['temperature'].max()\n",
    "min_temperature = df['temperature'].min()\n",
    "\n",
    "print(\"Mean temperature:\", mean_temperature)\n",
    "print(\"Maximum temperature:\", max_temperature)\n",
    "print(\"Minimum temperature:\", min_temperature)"
   ]
  },
  {
   "cell_type": "markdown",
   "id": "67b05cb0",
   "metadata": {},
   "source": [
    "## Q#6"
   ]
  },
  {
   "cell_type": "code",
   "execution_count": 12,
   "id": "c46c5104",
   "metadata": {},
   "outputs": [],
   "source": [
    "# Read the CSV file, specifying columns to read and skipping specific rows\n",
    "df = pd.read_csv('people.csv', usecols=[\"First Name\", \"Sex\", \"Email\", \"Phone\", \"Job Title\"], skiprows=[1, 5])\n",
    "\n",
    "# Set 'Sex' and 'Job Title' columns as index columns\n",
    "df.set_index([\"Sex\", \"Job Title\"], inplace=True)\n",
    "\n",
    "# Export the DataFrame to a new CSV file\n",
    "df.to_csv('NewPeople.csv')"
   ]
  },
  {
   "cell_type": "markdown",
   "id": "074cff3c",
   "metadata": {},
   "source": [
    "## Q#7"
   ]
  },
  {
   "cell_type": "code",
   "execution_count": 25,
   "id": "11d1c6d9",
   "metadata": {},
   "outputs": [],
   "source": [
    "import pandas as pd\n",
    "\n",
    "# Read the Excel file, specifying the sheet name and skipping specific rows\n",
    "df = pd.read_excel('SampleWork.xlsx', sheet_name=0, usecols=[0, -1], skiprows=[1])\n",
    "\n",
    "# Extract first and last columns\n",
    "first_column = df.columns[0]\n",
    "last_column = df.columns[-1]\n",
    "\n",
    "# Set the first and last columns as the header\n",
    "header = pd.read_excel('SampleWork.xlsx', sheet_name=0, usecols=[0, -1], nrows=1, skiprows=[1]).iloc[0]\n",
    "header[first_column] = header.index[0]\n",
    "header[last_column] = header.index[-1]\n",
    "\n",
    "# Skip row 2 while importing the sheet\n",
    "df = pd.read_excel('SampleWork.xlsx', sheet_name=0, usecols=[0, -1], skiprows=[1])\n",
    "\n",
    "# Rename the columns\n",
    "df.columns = header\n",
    "\n",
    "# Export the DataFrame to a new Excel file\n",
    "df.to_excel('NewSheet.xlsx', index=False)\n"
   ]
  },
  {
   "cell_type": "markdown",
   "id": "f426fef2",
   "metadata": {},
   "source": [
    "## Q#8"
   ]
  },
  {
   "cell_type": "code",
   "execution_count": 26,
   "id": "378cb2c1",
   "metadata": {},
   "outputs": [
    {
     "name": "stdout",
     "output_type": "stream",
     "text": [
      "AICP_DF:\n",
      "       Age   Address Qualification  Height\n",
      "Name                                      \n",
      "Sonia   27    Lahore           Msc     5.1\n",
      "Hifza   22   Sialkot           MCA     5.1\n",
      "Kabir   32  Peshawar           Phd     5.2\n",
      "Jazim   23    Lahore           Bsc     5.1\n",
      "\n",
      "df1:\n",
      "    Name Qualification\n",
      "0  Sonia           Msc\n",
      "1  Bilal            MA\n",
      "2  Hifza           MCA\n",
      "3  Kabir           Phd\n",
      "4  Jazim           Bsc\n",
      "\n",
      "Row with index 'Hifza':\n",
      "Age                   22\n",
      "Address          Sialkot\n",
      "Qualification        MCA\n",
      "Height               5.1\n",
      "Name: Hifza, dtype: object\n",
      "\n",
      "Row with index 3:\n",
      "Age                   22\n",
      "Address          Sialkot\n",
      "Qualification        MCA\n",
      "Height               5.1\n",
      "Name: Hifza, dtype: object\n"
     ]
    }
   ],
   "source": [
    "# Create the DataFrame AICP_DF\n",
    "data = {\n",
    "    'Name': ['Sonia', 'Bilal', 'Hifza', 'Kabir', 'Jazim'],\n",
    "    'Age': [27, 24, 22, 32, 23],\n",
    "    'Address': ['Lahore', 'Karachi', 'Sialkot', 'Peshawar', 'Lahore'],\n",
    "    'Qualification': ['Msc', 'MA', 'MCA', 'Phd', 'Bsc']\n",
    "}\n",
    "\n",
    "AICP_DF = pd.DataFrame(data)\n",
    "\n",
    "# Select 'Name', 'Qualification' columns and save to df1\n",
    "df1 = AICP_DF[['Name', 'Qualification']]\n",
    "\n",
    "# Add a new column to AICP_DF “Height” with the following values\n",
    "AICP_DF['Height'] = [5.1, 6.2, 5.1, 5.2, 5.1]\n",
    "\n",
    "# Set column “Name” as the index column\n",
    "AICP_DF.set_index('Name', inplace=True)\n",
    "\n",
    "# Retrieve row with index “Hifza”\n",
    "row_hifza = AICP_DF.loc['Hifza']\n",
    "\n",
    "# Retrieve row with index 3\n",
    "row_index_3 = AICP_DF.iloc[2]\n",
    "\n",
    "# Drop row with index “Bilal”\n",
    "AICP_DF.drop(index='Bilal', inplace=True)\n",
    "\n",
    "print(\"AICP_DF:\")\n",
    "print(AICP_DF)\n",
    "print(\"\\ndf1:\")\n",
    "print(df1)\n",
    "print(\"\\nRow with index 'Hifza':\")\n",
    "print(row_hifza)\n",
    "print(\"\\nRow with index 3:\")\n",
    "print(row_index_3)\n"
   ]
  },
  {
   "cell_type": "code",
   "execution_count": null,
   "id": "520dae8e",
   "metadata": {},
   "outputs": [],
   "source": []
  }
 ],
 "metadata": {
  "kernelspec": {
   "display_name": "Python 3 (ipykernel)",
   "language": "python",
   "name": "python3"
  },
  "language_info": {
   "codemirror_mode": {
    "name": "ipython",
    "version": 3
   },
   "file_extension": ".py",
   "mimetype": "text/x-python",
   "name": "python",
   "nbconvert_exporter": "python",
   "pygments_lexer": "ipython3",
   "version": "3.10.9"
  }
 },
 "nbformat": 4,
 "nbformat_minor": 5
}
